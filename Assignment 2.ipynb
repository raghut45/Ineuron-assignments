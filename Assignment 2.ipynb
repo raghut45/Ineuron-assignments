{
 "cells": [
  {
   "cell_type": "markdown",
   "id": "dd1e3147",
   "metadata": {},
   "source": [
    "1.What are the two values of the Boolean data type? How do you write them?\n",
    "\n",
    "\n",
    "ans:The two values of Boolean data type are True and False. it is declared with bool keyword.\n"
   ]
  },
  {
   "cell_type": "markdown",
   "id": "25cb0baa",
   "metadata": {},
   "source": [
    "2. What are the three different types of Boolean operators?\n",
    "\n",
    "ans: Three different types of boolean operators are AND,OR,NOT."
   ]
  },
  {
   "cell_type": "markdown",
   "id": "c2a142a3",
   "metadata": {},
   "source": [
    "3. Make a list of each Boolean operator's truth tables (i.e. every possible combination of Boolean values for the operator and what it evaluate ).\n",
    "\n",
    "ans: for  AND operator \n",
    "\n",
    "x      y     x and y\n",
    "\n",
    "1      0       0\n",
    "\n",
    "0      1       0\n",
    "\n",
    "1      1       1\n",
    "\n",
    "0      0       0\n",
    "\n",
    "for OR operator\n",
    "\n",
    "x      y    x or y\n",
    "\n",
    "1      0      1\n",
    "\n",
    "0      1      1\n",
    "\n",
    "1      1      1 \n",
    "\n",
    "0      0      0\n",
    "\n",
    "for NOT operator\n",
    "\n",
    "x     y \n",
    "\n",
    "1     0\n",
    "\n",
    "0     1\n"
   ]
  },
  {
   "cell_type": "markdown",
   "id": "361a759b",
   "metadata": {},
   "source": [
    "#4. What are the values of the following expressions?\n",
    "\n",
    "\n",
    "\n",
    "\n",
    "\n",
    "\n"
   ]
  },
  {
   "cell_type": "code",
   "execution_count": 1,
   "id": "9d9dd8cf",
   "metadata": {},
   "outputs": [
    {
     "data": {
      "text/plain": [
       "False"
      ]
     },
     "execution_count": 1,
     "metadata": {},
     "output_type": "execute_result"
    }
   ],
   "source": [
    "(5 > 4) and (3 == 5)"
   ]
  },
  {
   "cell_type": "code",
   "execution_count": 2,
   "id": "2035550f",
   "metadata": {},
   "outputs": [
    {
     "data": {
      "text/plain": [
       "False"
      ]
     },
     "execution_count": 2,
     "metadata": {},
     "output_type": "execute_result"
    }
   ],
   "source": [
    "not (5 > 4)"
   ]
  },
  {
   "cell_type": "code",
   "execution_count": 3,
   "id": "6d3e9ebb",
   "metadata": {},
   "outputs": [
    {
     "data": {
      "text/plain": [
       "True"
      ]
     },
     "execution_count": 3,
     "metadata": {},
     "output_type": "execute_result"
    }
   ],
   "source": [
    "(5 > 4) or (3 == 5)"
   ]
  },
  {
   "cell_type": "code",
   "execution_count": 4,
   "id": "0de4bbe4",
   "metadata": {},
   "outputs": [
    {
     "data": {
      "text/plain": [
       "False"
      ]
     },
     "execution_count": 4,
     "metadata": {},
     "output_type": "execute_result"
    }
   ],
   "source": [
    "not ((5 > 4) or (3 == 5))"
   ]
  },
  {
   "cell_type": "code",
   "execution_count": 5,
   "id": "54c167e6",
   "metadata": {},
   "outputs": [
    {
     "data": {
      "text/plain": [
       "False"
      ]
     },
     "execution_count": 5,
     "metadata": {},
     "output_type": "execute_result"
    }
   ],
   "source": [
    "(True and True) and (True == False)"
   ]
  },
  {
   "cell_type": "code",
   "execution_count": 6,
   "id": "8fdaf96b",
   "metadata": {},
   "outputs": [
    {
     "data": {
      "text/plain": [
       "True"
      ]
     },
     "execution_count": 6,
     "metadata": {},
     "output_type": "execute_result"
    }
   ],
   "source": [
    "(not False) or (not True)"
   ]
  },
  {
   "cell_type": "markdown",
   "id": "30ac2393",
   "metadata": {},
   "source": [
    "5. what are six comparison operators?\n",
    "\n"
   ]
  },
  {
   "cell_type": "markdown",
   "id": "865dee1c",
   "metadata": {},
   "source": [
    "Less than ( < ), less than or equal to ( <= ), greater than ( > ), greater than or equal to ( >= ), equal to ( == ), and not equal to ( != ) are the comparison operators."
   ]
  },
  {
   "cell_type": "markdown",
   "id": "55faccb1",
   "metadata": {},
   "source": [
    "6. How do you tell the difference between the equal to and assignment operators?Describe a condition and when you would use one.\n",
    "\n",
    "Ans: the '=' to operator is used for assigning the value, whereas '==' to used to see whether two values are equal or not.\n",
    "\n",
    "for ex:  \n",
    "\n",
    "s=ab\n",
    "\n",
    "here ab is assigned to s.\n",
    "\n",
    "a=5,b=6\n",
    "\n",
    "a==b\n",
    "\n",
    "output : false \n",
    "\n",
    "because a is not equal to 6"
   ]
  },
  {
   "cell_type": "markdown",
   "id": "87255cb4",
   "metadata": {},
   "source": [
    "7. Identify the three blocks in this code:"
   ]
  },
  {
   "cell_type": "code",
   "execution_count": 9,
   "id": "aebb2558",
   "metadata": {},
   "outputs": [
    {
     "name": "stdout",
     "output_type": "stream",
     "text": [
      "ham\n",
      "spam\n",
      "spam\n"
     ]
    }
   ],
   "source": [
    "spam = 0\n",
    "if spam == 10:\n",
    "    print('eggs')\n",
    "if spam > 5:\n",
    "    print('bacon')\n",
    "else:\n",
    "    print('ham')\n",
    "    print('spam')\n",
    "    print('spam')\n"
   ]
  },
  {
   "cell_type": "markdown",
   "id": "3835c95c",
   "metadata": {},
   "source": [
    "in the above code 0 is assigned to spam, but spam is not equal to 0.\n",
    " that is why in first condition spam is not 10 that is why it wont be executed and spam is also not greater than 5 so it wont print bacon"
   ]
  },
  {
   "cell_type": "markdown",
   "id": "13924177",
   "metadata": {},
   "source": [
    "8. Write code that prints Hello if 1 is stored in spam, prints Howdy if 2 is stored in spam, and prints Greetings! if anything else is stored in spam."
   ]
  },
  {
   "cell_type": "code",
   "execution_count": 23,
   "id": "e5353386",
   "metadata": {},
   "outputs": [
    {
     "name": "stdout",
     "output_type": "stream",
     "text": [
      "howdy\n"
     ]
    }
   ],
   "source": [
    "spam=2 \n",
    "if spam==1:\n",
    "    print('hello')\n",
    "if spam==2:\n",
    "    print(\"howdy\")\n",
    "else:\n",
    "    print('greetings')\n",
    "   "
   ]
  },
  {
   "cell_type": "code",
   "execution_count": null,
   "id": "aca4db17",
   "metadata": {},
   "outputs": [],
   "source": []
  }
 ],
 "metadata": {
  "kernelspec": {
   "display_name": "Python 3 (ipykernel)",
   "language": "python",
   "name": "python3"
  },
  "language_info": {
   "codemirror_mode": {
    "name": "ipython",
    "version": 3
   },
   "file_extension": ".py",
   "mimetype": "text/x-python",
   "name": "python",
   "nbconvert_exporter": "python",
   "pygments_lexer": "ipython3",
   "version": "3.9.7"
  }
 },
 "nbformat": 4,
 "nbformat_minor": 5
}
