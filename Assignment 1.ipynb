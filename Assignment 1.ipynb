{
 "cells": [
  {
   "cell_type": "markdown",
   "id": "f633c037",
   "metadata": {},
   "source": [
    "1. In the below elements which of them are values or an expression? eg:- values can be integer or string and expressions will be mathematical operators.\n",
    "* \n",
    "'hello'\n",
    "-87.8\n",
    "- \n",
    "/ \n",
    "+\t\n",
    "6 \n",
    "\n",
    "\n",
    "\n",
    "Ans: In the above elements,\n",
    "\n",
    "*,/,+,- these are expressions\n",
    "\n",
    "and\n",
    "'hello', -87.8,6 are string,float and integer. "
   ]
  },
  {
   "cell_type": "markdown",
   "id": "b141cd2b",
   "metadata": {},
   "source": [
    "2. What is the difference between string and variable?\n",
    "\n",
    "Ans: Variable is  where information is stored and that information can be a string, integer .\n",
    "\n",
    "for example:\n",
    "\n",
    "a='hello' here a is a variable and 'hello' is a string. 'hello' is stored in a. so string type information is stored in a."
   ]
  },
  {
   "cell_type": "markdown",
   "id": "87132a21",
   "metadata": {},
   "source": [
    "3. Describe three different data types?\n",
    "\n",
    "\n",
    "Ans:Three different type of data types are integer, float and string.\n",
    "\n",
    "Integer(int): this data type consiste of numbers from positive to negative but no decimal numbers.\n",
    "\n",
    "example:45,-54,34.\n",
    "\n",
    "Float: These are number which are specified by a decimal point.\n",
    "example:45.6,67.8.\n",
    "\n",
    "String(str):String is a collection of one or more characters, put under quotation marks \"  \" or '  ' . \n",
    "\n",
    "example: \"hello\"  , 'welcome'.\n"
   ]
  },
  {
   "cell_type": "markdown",
   "id": "d6966522",
   "metadata": {},
   "source": [
    "4. What is an expression made up of? What do all expressions do?\n",
    "\n",
    "Ans:Expression is a code that can be evaluated to a value. expressions always yields an output."
   ]
  },
  {
   "cell_type": "markdown",
   "id": "2102f87c",
   "metadata": {},
   "source": [
    "5. This assignment statements, like spam = 10. What is the difference between an expression and a statement?\n",
    "\n",
    "Ans: Statement is which executes a specific instruction or certain task. A expresssion evaluates a value and statement performs an action.\n",
    "\n",
    "in spam=10,this statement is performing the action of assigning 10 value to spam."
   ]
  },
  {
   "cell_type": "code",
   "execution_count": 11,
   "id": "8a960fd3",
   "metadata": {
    "scrolled": true
   },
   "outputs": [
    {
     "data": {
      "text/plain": [
       "23"
      ]
     },
     "execution_count": 11,
     "metadata": {},
     "output_type": "execute_result"
    }
   ],
   "source": [
    "#6. After running the following code, what does the variable bacon contain?\n",
    "bacon = 22\n",
    "bacon + 1\n"
   ]
  },
  {
   "cell_type": "markdown",
   "id": "ea59861f",
   "metadata": {},
   "source": [
    "Bacon contains 23 value."
   ]
  },
  {
   "cell_type": "code",
   "execution_count": 15,
   "id": "fb00f5ff",
   "metadata": {},
   "outputs": [
    {
     "data": {
      "text/plain": [
       "'spamspamspam'"
      ]
     },
     "execution_count": 15,
     "metadata": {},
     "output_type": "execute_result"
    }
   ],
   "source": [
    "#7. What should the values of the following two terms be?\n",
    "'spam' + 'spamspam'\n",
    "\n",
    "\n",
    "\n"
   ]
  },
  {
   "cell_type": "code",
   "execution_count": 16,
   "id": "8be3879e",
   "metadata": {},
   "outputs": [
    {
     "data": {
      "text/plain": [
       "'spamspamspam'"
      ]
     },
     "execution_count": 16,
     "metadata": {},
     "output_type": "execute_result"
    }
   ],
   "source": [
    "'spam'*3"
   ]
  },
  {
   "cell_type": "markdown",
   "id": "2937c6c9",
   "metadata": {},
   "source": [
    "both the operqations give same output."
   ]
  },
  {
   "cell_type": "markdown",
   "id": "fcfbf856",
   "metadata": {},
   "source": [
    "8. Why is eggs a valid variable name while 100 is invalid?\n",
    "\n",
    "\n",
    "Ans: Variable name cannot start with a number."
   ]
  },
  {
   "cell_type": "markdown",
   "id": "62aa7f0e",
   "metadata": {},
   "source": [
    "9.What three functions can be used to get the integer, floating-point number, or string version of a value?\n",
    "\n",
    "Ans:int(), float(), str(), are the functions used to get integer, float, string version of a value."
   ]
  },
  {
   "cell_type": "markdown",
   "id": "2002954a",
   "metadata": {},
   "source": [
    "10. Why does this expression cause an error? How can you fix it?\n",
    "\n",
    "\n",
    "'I have eaten ' + 99 + ' burritos.'\n"
   ]
  },
  {
   "cell_type": "code",
   "execution_count": 17,
   "id": "c48dac1d",
   "metadata": {},
   "outputs": [
    {
     "ename": "TypeError",
     "evalue": "can only concatenate str (not \"int\") to str",
     "output_type": "error",
     "traceback": [
      "\u001b[1;31m---------------------------------------------------------------------------\u001b[0m",
      "\u001b[1;31mTypeError\u001b[0m                                 Traceback (most recent call last)",
      "\u001b[1;32m~\\AppData\\Local\\Temp/ipykernel_8596/408945910.py\u001b[0m in \u001b[0;36m<module>\u001b[1;34m\u001b[0m\n\u001b[1;32m----> 1\u001b[1;33m \u001b[1;34m'I have eaten '\u001b[0m\u001b[1;33m+\u001b[0m\u001b[1;36m99\u001b[0m\u001b[1;33m+\u001b[0m\u001b[1;34m'burritos'\u001b[0m\u001b[1;33m\u001b[0m\u001b[1;33m\u001b[0m\u001b[0m\n\u001b[0m",
      "\u001b[1;31mTypeError\u001b[0m: can only concatenate str (not \"int\") to str"
     ]
    }
   ],
   "source": [
    "'I have eaten '+99+'burritos'"
   ]
  },
  {
   "cell_type": "code",
   "execution_count": 18,
   "id": "a1ad95cb",
   "metadata": {},
   "outputs": [
    {
     "data": {
      "text/plain": [
       "'I have eaten 99 burritos'"
      ]
     },
     "execution_count": 18,
     "metadata": {},
     "output_type": "execute_result"
    }
   ],
   "source": [
    "'I have eaten 99 burritos'"
   ]
  },
  {
   "cell_type": "code",
   "execution_count": null,
   "id": "17e46dcf",
   "metadata": {},
   "outputs": [],
   "source": []
  }
 ],
 "metadata": {
  "kernelspec": {
   "display_name": "Python 3 (ipykernel)",
   "language": "python",
   "name": "python3"
  },
  "language_info": {
   "codemirror_mode": {
    "name": "ipython",
    "version": 3
   },
   "file_extension": ".py",
   "mimetype": "text/x-python",
   "name": "python",
   "nbconvert_exporter": "python",
   "pygments_lexer": "ipython3",
   "version": "3.9.7"
  }
 },
 "nbformat": 4,
 "nbformat_minor": 5
}
